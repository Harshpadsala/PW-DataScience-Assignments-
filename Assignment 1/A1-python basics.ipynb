{
 "cells": [
  {
   "cell_type": "markdown",
   "id": "3eb309bc-15b1-42d2-95e1-c4d2b0a56d93",
   "metadata": {},
   "source": [
    "# Assignment : Python Baiscs Assignment"
   ]
  },
  {
   "cell_type": "markdown",
   "id": "5dc87760-1568-4ad0-a061-8d550f9f58d7",
   "metadata": {
    "tags": []
   },
   "source": [
    "# 1. Explain the key features of Python that make it a popular choice for programming.\n",
    "\n",
    "\n",
    "Readability and Simplicity:\n",
    "Python's syntax is clean, readable, and straightforward, which makes it an excellent language for beginners.\n",
    "The use of indentation to define code blocks improves code readability and enforces good coding practices.\n",
    "\n",
    "### High-Level Language:\n",
    "Python abstracts many of the complex details of the computer's operation, making it easier to write programs without worrying about low-level details like memory management.\n",
    "\n",
    "###Dynamic Typing:\n",
    "Python uses dynamic typing, meaning you don’t have to declare the type of variable when you create one. The type is determined at runtime.\n",
    "\n",
    "### Interpreted Language:\n",
    "Python is an interpreted language, meaning code is executed line-by-line, which simplifies the debugging process and speeds up development.\n",
    "\n",
    "### Extensive Standard Library:\n",
    "Python comes with a vast standard library that supports many common programming tasks such as file I/O, system calls, and even Internet protocols.\n",
    "This library significantly reduces the need for writing code from scratch for many functions.\n",
    "\n",
    "### Cross-Platform Compatibility:\n",
    "Python is available on many operating systems (Windows, macOS, Linux, etc.), making it a cross-platform language. Programs written in Python can run on any system with a compatible Python interpreter.\n",
    "\n",
    "### Large Community and Ecosystem:\n",
    "Python has a massive and active community, which means a wealth of resources, libraries, frameworks, and tools are available.\n",
    "This community support makes it easier to find solutions to problems, learn new skills, and stay updated with the latest developments.\n",
    "\n",
    "### Support for Multiple Paradigms:\n",
    "Python supports multiple programming paradigms, including procedural, object-oriented, and functional programming.\n",
    "This flexibility allows developers to choose the best paradigm for their particular problem.\n",
    "\n",
    "### Strong Support for Integration:\n",
    "Python can easily integrate with other languages and technologies. For instance, CPython can be extended with C or C++, and Jython allows Python code to run on the Java platform.\n",
    "\n",
    "### Rich Set of Libraries and Frameworks:\n",
    "Python has numerous libraries and frameworks that support a wide range of applications, from web development (Django, Flask) to data analysis (Pandas, NumPy), machine learning (TensorFlow, Scikit-learn), and more.\n",
    "\n",
    "### Ease of Learning and Use:\n",
    "Python is often recommended as the first programming language due to its simplicity and readability, which makes it easier to learn and use compared to other programming languages.\n",
    "\n",
    "### Robust Community Support:\n",
    "Python's active community contributes to extensive documentation, numerous tutorials, forums, and a wealth of third-party packages available through the Python Package Index (PyPI).\n",
    "\n",
    "### Consistent Improvements:\n",
    "Python continues to evolve with new features and improvements, ensuring it remains relevant and useful for modern software development needs.\n"
   ]
  },
  {
   "cell_type": "markdown",
   "id": "a380e330-2855-4b93-8290-d4ba19b48bef",
   "metadata": {},
   "source": [
    "# 2. Describe the role of predefined keywords in Python and provide examples of how they are used in a program."
   ]
  },
  {
   "cell_type": "markdown",
   "id": "5e0ec7a1-419b-48ea-b746-389bb510c406",
   "metadata": {},
   "source": [
    "### Control Flow Keywords:\n",
    "\n",
    "if, elif, else: Conditional statements.\n",
    "\n",
    "for, while: Looping constructs.\n",
    "\n",
    "break, continue: Control flow within loops.\n",
    "\n",
    "try, except, finally, raise: Exception handling.\n",
    "\n",
    "return: Return a value from a function.\n",
    "\n",
    "yield: Produce a value from a generator.\n",
    "\n",
    "with, as: Context management.\n",
    "\n",
    "### Logical Operators:\n",
    "\n",
    "and, or, not: Logical operations.\n",
    "\n",
    "### Boolean Values:\n",
    "\n",
    "True, False: Boolean literals.\n",
    "\n",
    "### Null Value:\n",
    "\n",
    "None: Represents the absence of a value.\n",
    "\n",
    "### Function and Class Definitions:\n",
    "\n",
    "def: Define a function.\n",
    "class: Define a class.\n",
    "lambda: Create an anonymous function.\n",
    "\n",
    "### Variable Scope and Management:\n",
    "\n",
    "global: Declare a global variable.\n",
    "nonlocal: Declare a non-local variable within nested functions.\n",
    "del: Delete a variable or object.\n",
    "\n",
    "### Importing Modules:\n",
    "\n",
    "import, from: Import modules and functions.\n",
    "\n",
    "### Asynchronous Programming:\n",
    "\n",
    "async, await: Define and handle asynchronous functions.\n",
    "\n",
    "### Miscellaneous:\n",
    "\n",
    "assert: Debugging aid that tests a condition.\n",
    "pass: Do nothing statement, acts as a placeholder."
   ]
  },
  {
   "cell_type": "markdown",
   "id": "fd88ffa1-3288-4d09-8890-5d2e19aaeebe",
   "metadata": {},
   "source": [
    "# 3. Compare and contrast mutable and immutable objects in Python with examples."
   ]
  },
  {
   "cell_type": "markdown",
   "id": "c939052a-e8de-4066-b3ce-c84a67446a87",
   "metadata": {},
   "source": [
    " Mutable : values can be changed after assignment "
   ]
  },
  {
   "cell_type": "markdown",
   "id": "48bf159e-fbc7-4fcd-9539-cbb298338c35",
   "metadata": {},
   "source": [
    "Immutable : values cant be changed after assignment"
   ]
  },
  {
   "cell_type": "code",
   "execution_count": 7,
   "id": "ccd81041-1a57-4702-8de2-90a20ab13fd1",
   "metadata": {},
   "outputs": [],
   "source": [
    "# int , float , bool , list, dict are mutable \n",
    "a = 5"
   ]
  },
  {
   "cell_type": "code",
   "execution_count": 9,
   "id": "4b39fba8-1ac2-463a-ba27-a192621952e4",
   "metadata": {},
   "outputs": [
    {
     "data": {
      "text/plain": [
       "int"
      ]
     },
     "execution_count": 9,
     "metadata": {},
     "output_type": "execute_result"
    }
   ],
   "source": [
    "type(a)"
   ]
  },
  {
   "cell_type": "code",
   "execution_count": 10,
   "id": "8267f928-57b7-4c17-8770-5b5105e057bb",
   "metadata": {},
   "outputs": [
    {
     "data": {
      "text/plain": [
       "10"
      ]
     },
     "execution_count": 10,
     "metadata": {},
     "output_type": "execute_result"
    }
   ],
   "source": [
    "a = 10\n",
    "a"
   ]
  },
  {
   "cell_type": "code",
   "execution_count": 12,
   "id": "9fdd00c2-6ede-4414-a03a-6e42e6e2e410",
   "metadata": {},
   "outputs": [
    {
     "data": {
      "text/plain": [
       "True"
      ]
     },
     "execution_count": 12,
     "metadata": {},
     "output_type": "execute_result"
    }
   ],
   "source": [
    "b = True \n",
    "b"
   ]
  },
  {
   "cell_type": "code",
   "execution_count": 13,
   "id": "589b17fb-3ace-4da8-927e-d5c163cb5a10",
   "metadata": {},
   "outputs": [
    {
     "data": {
      "text/plain": [
       "False"
      ]
     },
     "execution_count": 13,
     "metadata": {},
     "output_type": "execute_result"
    }
   ],
   "source": [
    "b = False\n",
    "b"
   ]
  },
  {
   "cell_type": "code",
   "execution_count": 14,
   "id": "fca9ecf4-c932-478e-858a-81b2a94ab7ce",
   "metadata": {},
   "outputs": [
    {
     "data": {
      "text/plain": [
       "[0, 1, 2, 3, 4]"
      ]
     },
     "execution_count": 14,
     "metadata": {},
     "output_type": "execute_result"
    }
   ],
   "source": [
    "l = [i for i in range(5)]\n",
    "l"
   ]
  },
  {
   "cell_type": "code",
   "execution_count": 15,
   "id": "549810a4-9e65-410d-beff-c3f628f11ccb",
   "metadata": {},
   "outputs": [],
   "source": [
    "l[1]=\"narendra modi\""
   ]
  },
  {
   "cell_type": "code",
   "execution_count": 16,
   "id": "7a4faa99-d7f9-4085-a626-1ee24c0e7fe5",
   "metadata": {},
   "outputs": [
    {
     "data": {
      "text/plain": [
       "[0, 'narendra modi', 2, 3, 4]"
      ]
     },
     "execution_count": 16,
     "metadata": {},
     "output_type": "execute_result"
    }
   ],
   "source": [
    "l"
   ]
  },
  {
   "cell_type": "markdown",
   "id": "94416ad9-d50e-41a5-b5bd-f62f0e267148",
   "metadata": {},
   "source": [
    "## Strings and Tuples are Immutable "
   ]
  },
  {
   "cell_type": "code",
   "execution_count": 22,
   "id": "1ccb8348-2e14-4fe7-bf07-efa411f2e535",
   "metadata": {},
   "outputs": [
    {
     "name": "stdout",
     "output_type": "stream",
     "text": [
      "huskey\n"
     ]
    },
    {
     "data": {
      "text/plain": [
       "str"
      ]
     },
     "execution_count": 22,
     "metadata": {},
     "output_type": "execute_result"
    }
   ],
   "source": [
    "s = \"huskey\"\n",
    "print(s)\n",
    "type(s)\n"
   ]
  },
  {
   "cell_type": "code",
   "execution_count": 19,
   "id": "33e16437-53ec-42b9-950e-14aae01aead2",
   "metadata": {},
   "outputs": [
    {
     "data": {
      "text/plain": [
       "'h'"
      ]
     },
     "execution_count": 19,
     "metadata": {},
     "output_type": "execute_result"
    }
   ],
   "source": [
    "s[0]"
   ]
  },
  {
   "cell_type": "code",
   "execution_count": 20,
   "id": "33dd0710-5ac7-412f-af6a-17b1fc21fe7d",
   "metadata": {},
   "outputs": [
    {
     "ename": "TypeError",
     "evalue": "'str' object does not support item assignment",
     "output_type": "error",
     "traceback": [
      "\u001b[0;31m---------------------------------------------------------------------------\u001b[0m",
      "\u001b[0;31mTypeError\u001b[0m                                 Traceback (most recent call last)",
      "Cell \u001b[0;32mIn[20], line 1\u001b[0m\n\u001b[0;32m----> 1\u001b[0m \u001b[43ms\u001b[49m\u001b[43m[\u001b[49m\u001b[38;5;241;43m1\u001b[39;49m\u001b[43m]\u001b[49m\u001b[38;5;241m=\u001b[39m\u001b[38;5;124m\"\u001b[39m\u001b[38;5;124mm\u001b[39m\u001b[38;5;124m\"\u001b[39m\n",
      "\u001b[0;31mTypeError\u001b[0m: 'str' object does not support item assignment"
     ]
    }
   ],
   "source": [
    "s[1]=\"m\""
   ]
  },
  {
   "cell_type": "code",
   "execution_count": 23,
   "id": "426c835f-2c9f-40d9-964e-da4ce76040b5",
   "metadata": {},
   "outputs": [],
   "source": [
    "t = (1,2,3,4)"
   ]
  },
  {
   "cell_type": "code",
   "execution_count": 24,
   "id": "57132788-7c24-4a65-8208-071c598c148b",
   "metadata": {},
   "outputs": [
    {
     "data": {
      "text/plain": [
       "1"
      ]
     },
     "execution_count": 24,
     "metadata": {},
     "output_type": "execute_result"
    }
   ],
   "source": [
    "t[0]"
   ]
  },
  {
   "cell_type": "code",
   "execution_count": 25,
   "id": "e92c87ef-c8bf-4c44-8e59-a8ac7bb4d18a",
   "metadata": {},
   "outputs": [
    {
     "ename": "TypeError",
     "evalue": "'tuple' object does not support item assignment",
     "output_type": "error",
     "traceback": [
      "\u001b[0;31m---------------------------------------------------------------------------\u001b[0m",
      "\u001b[0;31mTypeError\u001b[0m                                 Traceback (most recent call last)",
      "Cell \u001b[0;32mIn[25], line 1\u001b[0m\n\u001b[0;32m----> 1\u001b[0m \u001b[43mt\u001b[49m\u001b[43m[\u001b[49m\u001b[38;5;241;43m0\u001b[39;49m\u001b[43m]\u001b[49m\u001b[38;5;241m=\u001b[39m\u001b[38;5;241m9\u001b[39m\n",
      "\u001b[0;31mTypeError\u001b[0m: 'tuple' object does not support item assignment"
     ]
    }
   ],
   "source": [
    "t[0]=9"
   ]
  },
  {
   "cell_type": "markdown",
   "id": "e77a66c0-028d-4329-bc96-9f949e4291ce",
   "metadata": {},
   "source": [
    "# 4. Discuss the different types of operators in Python and provide examples of how they are used."
   ]
  },
  {
   "cell_type": "markdown",
   "id": "1248f084-9f40-40b9-a395-16fc54ec0893",
   "metadata": {},
   "source": [
    "Arithmetic Operators:\n",
    "Addition (+)\n",
    "Subtraction (-)\n",
    "Multiplication (*)\n",
    "Division (/)\n",
    "Floor Division (//)\n",
    "Modulus (%)\n",
    "Exponentiation (**)\n",
    "\n",
    "Assignment Operators:\n",
    "Assign (=)\n",
    "Add and assign (+=)\n",
    "Subtract and assign (-=)\n",
    "Multiply and assign (*=)\n",
    "Divide and assign (/=)\n",
    "Floor divide and assign (//=)\n",
    "Modulus and assign (%=)\n",
    "Exponentiation and assign (**=)\n",
    "Bitwise AND and assign (&=)\n",
    "Bitwise OR and assign (|=)\n",
    "Bitwise XOR and assign (^=)\n",
    "Bitwise left shift and assign (<<=)\n",
    "Bitwise right shift and assign (>>=)\n",
    "\n",
    "Comparison (Relational) Operators:\n",
    "Equal to (==)\n",
    "Not equal to (!=)\n",
    "Greater than (>)\n",
    "Less than (<)\n",
    "Greater than or equal to (>=)\n",
    "Less than or equal to (<=)\n",
    "\n",
    "Logical Operators:\n",
    "Logical AND (and)\n",
    "Logical OR (or)\n",
    "Logical NOT (not)\n",
    "\n",
    "Bitwise Operators:\n",
    "Bitwise AND (&)\n",
    "Bitwise OR (|)\n",
    "Bitwise XOR (^)\n",
    "Bitwise NOT (~)\n",
    "Bitwise left shift (<<)\n",
    "Bitwise right shift (>>)\n",
    "\n",
    "Membership Operators:\n",
    "in: Returns True if a sequence with the specified value is present in the object.\n",
    "not in: Returns True if a sequence with the specified value is not present in the object.\n",
    "\n",
    "Identity Operators:\n",
    "is: Returns True if both variables are the same object.\n",
    "is not: Returns True if both variables are not the same object."
   ]
  },
  {
   "cell_type": "code",
   "execution_count": 29,
   "id": "66ad4d67-79e7-4cae-a4c4-d7ee3a57a1d2",
   "metadata": {},
   "outputs": [
    {
     "data": {
      "text/plain": [
       "(10, 2)"
      ]
     },
     "execution_count": 29,
     "metadata": {},
     "output_type": "execute_result"
    }
   ],
   "source": [
    "# arithmatic\n",
    "a = 10\n",
    "b = 2\n",
    "a,b"
   ]
  },
  {
   "cell_type": "code",
   "execution_count": 31,
   "id": "da0c8d61-1108-4f82-98e1-d870f2c76c9a",
   "metadata": {},
   "outputs": [
    {
     "data": {
      "text/plain": [
       "(12, 8, 20, 5.0, 5, 0, 100)"
      ]
     },
     "execution_count": 31,
     "metadata": {},
     "output_type": "execute_result"
    }
   ],
   "source": [
    "a+b,a-b,a*b,a/b,a//b,a%b,a**b"
   ]
  },
  {
   "cell_type": "code",
   "execution_count": 33,
   "id": "273aa2c8-d813-4f54-a214-5c02f99d83fa",
   "metadata": {},
   "outputs": [
    {
     "data": {
      "text/plain": [
       "14"
      ]
     },
     "execution_count": 33,
     "metadata": {},
     "output_type": "execute_result"
    }
   ],
   "source": [
    "# assignment\n",
    "a+=b\n",
    "a"
   ]
  },
  {
   "cell_type": "code",
   "execution_count": 35,
   "id": "da6d1e5e-71fd-4b05-a4a6-1194916fde32",
   "metadata": {},
   "outputs": [
    {
     "name": "stdout",
     "output_type": "stream",
     "text": [
      "4\n",
      "8\n",
      "4.0\n",
      "2.0\n"
     ]
    }
   ],
   "source": [
    "a-=b\n",
    "print(a)\n",
    "a*=b\n",
    "print(a)\n",
    "a/=b\n",
    "print(a)\n",
    "a//=b\n",
    "print(a)"
   ]
  },
  {
   "cell_type": "code",
   "execution_count": 36,
   "id": "8b77f51a-19d2-4ab0-95b3-38b4513f1d12",
   "metadata": {},
   "outputs": [],
   "source": [
    "a = 10"
   ]
  },
  {
   "cell_type": "code",
   "execution_count": 38,
   "id": "d68edf9c-318a-45a0-ad1d-7afb50efbb6a",
   "metadata": {},
   "outputs": [
    {
     "data": {
      "text/plain": [
       "(10, 2)"
      ]
     },
     "execution_count": 38,
     "metadata": {},
     "output_type": "execute_result"
    }
   ],
   "source": [
    "# comparision\n",
    "a , b"
   ]
  },
  {
   "cell_type": "code",
   "execution_count": 39,
   "id": "7b9a10f9-f486-4903-85c8-46e86198c6ca",
   "metadata": {},
   "outputs": [
    {
     "data": {
      "text/plain": [
       "(True, False, False, True, False, True)"
      ]
     },
     "execution_count": 39,
     "metadata": {},
     "output_type": "execute_result"
    }
   ],
   "source": [
    "a>b , a<b , a==b , a>=b , a<=b , a!=b"
   ]
  },
  {
   "cell_type": "code",
   "execution_count": 43,
   "id": "c254397c-7b79-4fc6-9491-47d9f2bc3673",
   "metadata": {},
   "outputs": [
    {
     "data": {
      "text/plain": [
       "(True, False, False, False)"
      ]
     },
     "execution_count": 43,
     "metadata": {},
     "output_type": "execute_result"
    }
   ],
   "source": [
    "# logical\n",
    "True and True,True and False ,False and True , False and False"
   ]
  },
  {
   "cell_type": "code",
   "execution_count": 41,
   "id": "99b68baa-4b2a-4f0e-87f0-c1d976eaa802",
   "metadata": {},
   "outputs": [
    {
     "data": {
      "text/plain": [
       "(True, True, True, False)"
      ]
     },
     "execution_count": 41,
     "metadata": {},
     "output_type": "execute_result"
    }
   ],
   "source": [
    "True or True,True or False ,False or True , False or False"
   ]
  },
  {
   "cell_type": "code",
   "execution_count": 42,
   "id": "aa8c6eba-2a31-4ae1-8e04-688265232557",
   "metadata": {},
   "outputs": [
    {
     "data": {
      "text/plain": [
       "(False, True)"
      ]
     },
     "execution_count": 42,
     "metadata": {},
     "output_type": "execute_result"
    }
   ],
   "source": [
    "not True,not False"
   ]
  },
  {
   "cell_type": "code",
   "execution_count": 44,
   "id": "883a7b44-c046-452e-85f2-51dce2ce3083",
   "metadata": {},
   "outputs": [],
   "source": [
    "# bitwise "
   ]
  },
  {
   "cell_type": "code",
   "execution_count": 47,
   "id": "baf7bf89-e5a7-4856-9f0a-d3924239f6ce",
   "metadata": {},
   "outputs": [
    {
     "data": {
      "text/plain": [
       "7"
      ]
     },
     "execution_count": 47,
     "metadata": {},
     "output_type": "execute_result"
    }
   ],
   "source": [
    "2 | 5"
   ]
  },
  {
   "cell_type": "code",
   "execution_count": 48,
   "id": "ed72fda5-794b-41b4-ab79-52db383042f6",
   "metadata": {},
   "outputs": [
    {
     "data": {
      "text/plain": [
       "0"
      ]
     },
     "execution_count": 48,
     "metadata": {},
     "output_type": "execute_result"
    }
   ],
   "source": [
    "2 & 5"
   ]
  },
  {
   "cell_type": "code",
   "execution_count": 49,
   "id": "4aac5998-f18c-4731-ba5f-81304f1670ad",
   "metadata": {},
   "outputs": [
    {
     "data": {
      "text/plain": [
       "7"
      ]
     },
     "execution_count": 49,
     "metadata": {},
     "output_type": "execute_result"
    }
   ],
   "source": [
    "2 ^ 5"
   ]
  },
  {
   "cell_type": "code",
   "execution_count": 50,
   "id": "cdfe9c14-2ad6-4087-8976-928b10cddafc",
   "metadata": {},
   "outputs": [
    {
     "data": {
      "text/plain": [
       "True"
      ]
     },
     "execution_count": 50,
     "metadata": {},
     "output_type": "execute_result"
    }
   ],
   "source": [
    "5 in [1,2,3,4,5]"
   ]
  },
  {
   "cell_type": "code",
   "execution_count": 51,
   "id": "09e5d5c9-a162-4f0c-b08a-42d13d53c795",
   "metadata": {},
   "outputs": [
    {
     "data": {
      "text/plain": [
       "True"
      ]
     },
     "execution_count": 51,
     "metadata": {},
     "output_type": "execute_result"
    }
   ],
   "source": [
    "\"a\" in \"Amit Shah\""
   ]
  },
  {
   "cell_type": "code",
   "execution_count": 52,
   "id": "6b1a85db-eb6a-4041-bf13-e0b6fb89e302",
   "metadata": {},
   "outputs": [
    {
     "data": {
      "text/plain": [
       "False"
      ]
     },
     "execution_count": 52,
     "metadata": {},
     "output_type": "execute_result"
    }
   ],
   "source": [
    "b = 10\n",
    "b in {1,2,3,9}"
   ]
  },
  {
   "cell_type": "code",
   "execution_count": 53,
   "id": "5a0cecb9-dc9b-4a83-9f3e-9ae271f9fb67",
   "metadata": {},
   "outputs": [],
   "source": [
    "a = False"
   ]
  },
  {
   "cell_type": "code",
   "execution_count": 54,
   "id": "634588d2-f562-421b-9415-2f6c2d4f56ab",
   "metadata": {},
   "outputs": [
    {
     "name": "stdout",
     "output_type": "stream",
     "text": [
      "True\n"
     ]
    }
   ],
   "source": [
    "print(a is a)"
   ]
  },
  {
   "cell_type": "code",
   "execution_count": 55,
   "id": "63344f6c-3823-4240-9dac-69bf0fe12eed",
   "metadata": {},
   "outputs": [
    {
     "data": {
      "text/plain": [
       "True"
      ]
     },
     "execution_count": 55,
     "metadata": {},
     "output_type": "execute_result"
    }
   ],
   "source": [
    "b = False\n",
    "a is b"
   ]
  },
  {
   "cell_type": "code",
   "execution_count": 61,
   "id": "8bbfcb71-940c-45fb-a732-732f06da5ad1",
   "metadata": {},
   "outputs": [],
   "source": [
    "c = True"
   ]
  },
  {
   "cell_type": "code",
   "execution_count": 62,
   "id": "6b3191e9-b075-49d0-ad91-9adf5ba44e09",
   "metadata": {},
   "outputs": [
    {
     "data": {
      "text/plain": [
       "False"
      ]
     },
     "execution_count": 62,
     "metadata": {},
     "output_type": "execute_result"
    }
   ],
   "source": [
    "a is c"
   ]
  },
  {
   "cell_type": "markdown",
   "id": "a5e3bfd4-596b-48e0-9ac7-764882e18c09",
   "metadata": {},
   "source": [
    "# 5. Explain the concept of type casting in Python with examples."
   ]
  },
  {
   "cell_type": "markdown",
   "id": "f9de3bc8-be8d-42a3-b98b-0f016c7a59aa",
   "metadata": {},
   "source": [
    "#### type casting refers to converting type of one data container to other "
   ]
  },
  {
   "cell_type": "code",
   "execution_count": 64,
   "id": "7f5ecdf5-c165-4292-8ddb-a44b71e0a5b2",
   "metadata": {},
   "outputs": [],
   "source": [
    "a = 5"
   ]
  },
  {
   "cell_type": "code",
   "execution_count": 65,
   "id": "37ad5fa7-0045-4989-b01a-d1c549d7c064",
   "metadata": {},
   "outputs": [
    {
     "name": "stdout",
     "output_type": "stream",
     "text": [
      "<class 'int'>\n"
     ]
    }
   ],
   "source": [
    "print(type(a))"
   ]
  },
  {
   "cell_type": "code",
   "execution_count": 67,
   "id": "a44843f7-ca3a-4f56-9b78-6d65e00bb95a",
   "metadata": {},
   "outputs": [
    {
     "data": {
      "text/plain": [
       "float"
      ]
     },
     "execution_count": 67,
     "metadata": {},
     "output_type": "execute_result"
    }
   ],
   "source": [
    "type(float(a))"
   ]
  },
  {
   "cell_type": "code",
   "execution_count": 70,
   "id": "d2e88c26-a7fa-4a3f-93a9-09fbb01de343",
   "metadata": {},
   "outputs": [
    {
     "data": {
      "text/plain": [
       "'123'"
      ]
     },
     "execution_count": 70,
     "metadata": {},
     "output_type": "execute_result"
    }
   ],
   "source": [
    "b = \"123\"\n",
    "b"
   ]
  },
  {
   "cell_type": "code",
   "execution_count": 71,
   "id": "c44e1431-dc4c-472c-863d-78ff22d0fb88",
   "metadata": {},
   "outputs": [
    {
     "data": {
      "text/plain": [
       "int"
      ]
     },
     "execution_count": 71,
     "metadata": {},
     "output_type": "execute_result"
    }
   ],
   "source": [
    "b =int(b)\n",
    "type(b)"
   ]
  },
  {
   "cell_type": "code",
   "execution_count": 72,
   "id": "a8475e55-e0ad-47e9-a3bf-5e5b7bf63ffa",
   "metadata": {},
   "outputs": [
    {
     "data": {
      "text/plain": [
       "123"
      ]
     },
     "execution_count": 72,
     "metadata": {},
     "output_type": "execute_result"
    }
   ],
   "source": [
    "b"
   ]
  },
  {
   "cell_type": "code",
   "execution_count": 73,
   "id": "78d13d79-04e6-47b4-a033-1e6e70905477",
   "metadata": {},
   "outputs": [
    {
     "data": {
      "text/plain": [
       "float"
      ]
     },
     "execution_count": 73,
     "metadata": {},
     "output_type": "execute_result"
    }
   ],
   "source": [
    "type(3/2)"
   ]
  },
  {
   "cell_type": "code",
   "execution_count": 74,
   "id": "9c56d895-f639-458d-8609-e3c5a399cd42",
   "metadata": {},
   "outputs": [
    {
     "data": {
      "text/plain": [
       "int"
      ]
     },
     "execution_count": 74,
     "metadata": {},
     "output_type": "execute_result"
    }
   ],
   "source": [
    "type(3//2)"
   ]
  },
  {
   "cell_type": "code",
   "execution_count": 75,
   "id": "71ad8fd5-cb5a-4c04-acd0-1b2f685ff3c1",
   "metadata": {},
   "outputs": [
    {
     "data": {
      "text/plain": [
       "int"
      ]
     },
     "execution_count": 75,
     "metadata": {},
     "output_type": "execute_result"
    }
   ],
   "source": [
    "type(0)"
   ]
  },
  {
   "cell_type": "code",
   "execution_count": 79,
   "id": "e1bd21a3-a707-4842-bf02-d2ba28231d61",
   "metadata": {},
   "outputs": [
    {
     "data": {
      "text/plain": [
       "True"
      ]
     },
     "execution_count": 79,
     "metadata": {},
     "output_type": "execute_result"
    }
   ],
   "source": [
    "c = bool(100)\n",
    "c"
   ]
  },
  {
   "cell_type": "code",
   "execution_count": 80,
   "id": "a6b24f6f-6277-4543-b5ce-290c5d56ce02",
   "metadata": {},
   "outputs": [
    {
     "data": {
      "text/plain": [
       "bool"
      ]
     },
     "execution_count": 80,
     "metadata": {},
     "output_type": "execute_result"
    }
   ],
   "source": [
    "type(c)"
   ]
  },
  {
   "cell_type": "code",
   "execution_count": 3,
   "id": "bc88c9a8-5d5d-4dc7-8874-e069f41271f1",
   "metadata": {},
   "outputs": [],
   "source": [
    "l = list()"
   ]
  },
  {
   "cell_type": "code",
   "execution_count": 4,
   "id": "71f60351-cfc7-49c9-93b2-820ac815f3b9",
   "metadata": {},
   "outputs": [
    {
     "name": "stdout",
     "output_type": "stream",
     "text": [
      "<class 'bool'>\n"
     ]
    }
   ],
   "source": [
    "m = (bool(l))\n",
    "m\n",
    "print(type(m))"
   ]
  },
  {
   "cell_type": "markdown",
   "id": "8a6f0175-6f1f-4c72-b1d3-6335e7066ed8",
   "metadata": {},
   "source": [
    "# 6. How do conditional statements work in Python? Illustrate with examples."
   ]
  },
  {
   "cell_type": "code",
   "execution_count": 5,
   "id": "d598fefe-bffe-40d4-ba15-3482d3c992f9",
   "metadata": {},
   "outputs": [
    {
     "name": "stdin",
     "output_type": "stream",
     "text": [
      " if\n"
     ]
    },
    {
     "name": "stdout",
     "output_type": "stream",
     "text": [
      "in if statement\n"
     ]
    },
    {
     "name": "stdin",
     "output_type": "stream",
     "text": [
      " elif\n"
     ]
    },
    {
     "name": "stdout",
     "output_type": "stream",
     "text": [
      "in elif statement\n"
     ]
    },
    {
     "name": "stdin",
     "output_type": "stream",
     "text": [
      " nothing\n"
     ]
    },
    {
     "name": "stdout",
     "output_type": "stream",
     "text": [
      "in else statement\n"
     ]
    },
    {
     "name": "stdin",
     "output_type": "stream",
     "text": [
      " exit\n"
     ]
    }
   ],
   "source": [
    "while True :\n",
    "    string = str(input())\n",
    "    if string==\"if\":\n",
    "        print(\"in if statement\")\n",
    "    elif string==\"elif\":\n",
    "        print(\"in elif statement\")\n",
    "    elif string==\"exit\":\n",
    "        break\n",
    "    else:\n",
    "        print(\"in else statement\")\n",
    "    \n",
    "    "
   ]
  },
  {
   "cell_type": "markdown",
   "id": "607322c0-ca08-4c51-9c2e-8ad1ea6e2c9e",
   "metadata": {},
   "source": [
    "# 7. Describe the different types of loops in Python and their use cases with examples."
   ]
  },
  {
   "cell_type": "code",
   "execution_count": 7,
   "id": "32112baf-74ca-4b58-867a-e07006202ace",
   "metadata": {},
   "outputs": [
    {
     "name": "stdout",
     "output_type": "stream",
     "text": [
      "[0, 1, 2, 3, 4]\n"
     ]
    }
   ],
   "source": [
    "a = list()\n",
    "\n",
    "for i in range(5):\n",
    "    a.append(i)\n",
    "else:\n",
    "    print(a)\n"
   ]
  },
  {
   "cell_type": "code",
   "execution_count": 11,
   "id": "01196772-6f18-42a9-9ae4-18a19972e2ab",
   "metadata": {},
   "outputs": [
    {
     "name": "stdout",
     "output_type": "stream",
     "text": [
      "0 1 2 3 4 "
     ]
    }
   ],
   "source": [
    "for digit in a:\n",
    "    print(digit ,end=\" \")"
   ]
  },
  {
   "cell_type": "code",
   "execution_count": 12,
   "id": "46ffc682-cb98-4f4c-9eab-c1dea7aefc27",
   "metadata": {},
   "outputs": [
    {
     "name": "stdout",
     "output_type": "stream",
     "text": [
      "0\n",
      "1\n",
      "2\n",
      "3\n",
      "4\n"
     ]
    }
   ],
   "source": [
    "i = 0\n",
    "while i < a.__len__():\n",
    "    print(i)\n",
    "    i+=1\n"
   ]
  },
  {
   "cell_type": "code",
   "execution_count": 13,
   "id": "3e2799d6-0218-407b-92c9-736954790503",
   "metadata": {},
   "outputs": [],
   "source": [
    "# we can manipulate iterator in while loop but we cant change manually in for loop in pyhton "
   ]
  },
  {
   "cell_type": "markdown",
   "id": "b4c2ded8-2699-4110-bfc0-00628f1f267b",
   "metadata": {},
   "source": [
    "# Thank you !!"
   ]
  }
 ],
 "metadata": {
  "kernelspec": {
   "display_name": "Python 3 (ipykernel)",
   "language": "python",
   "name": "python3"
  },
  "language_info": {
   "codemirror_mode": {
    "name": "ipython",
    "version": 3
   },
   "file_extension": ".py",
   "mimetype": "text/x-python",
   "name": "python",
   "nbconvert_exporter": "python",
   "pygments_lexer": "ipython3",
   "version": "3.10.8"
  },
  "toc-autonumbering": false
 },
 "nbformat": 4,
 "nbformat_minor": 5
}
