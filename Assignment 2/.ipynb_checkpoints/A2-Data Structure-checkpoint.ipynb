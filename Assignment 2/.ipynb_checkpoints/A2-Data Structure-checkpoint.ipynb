{
 "cells": [
  {
   "cell_type": "markdown",
   "id": "63c3699c",
   "metadata": {},
   "source": [
    "# Assingment : Data Structure"
   ]
  },
  {
   "cell_type": "markdown",
   "id": "92881e04",
   "metadata": {},
   "source": [
    "### 1. Discuss String slicing and provide examples "
   ]
  },
  {
   "cell_type": "code",
   "execution_count": 142,
   "id": "21c543e9",
   "metadata": {},
   "outputs": [],
   "source": [
    "s = \"this is string\""
   ]
  },
  {
   "cell_type": "code",
   "execution_count": 143,
   "id": "48b93834",
   "metadata": {},
   "outputs": [
    {
     "data": {
      "text/plain": [
       "'this is string'"
      ]
     },
     "execution_count": 143,
     "metadata": {},
     "output_type": "execute_result"
    }
   ],
   "source": [
    "s"
   ]
  },
  {
   "cell_type": "code",
   "execution_count": 144,
   "id": "49e5744b",
   "metadata": {},
   "outputs": [
    {
     "data": {
      "text/plain": [
       "'this is string'"
      ]
     },
     "execution_count": 144,
     "metadata": {},
     "output_type": "execute_result"
    }
   ],
   "source": [
    "s[:]"
   ]
  },
  {
   "cell_type": "code",
   "execution_count": 145,
   "id": "879afcc1",
   "metadata": {},
   "outputs": [
    {
     "data": {
      "text/plain": [
       "'t'"
      ]
     },
     "execution_count": 145,
     "metadata": {},
     "output_type": "execute_result"
    }
   ],
   "source": [
    "s[:1]"
   ]
  },
  {
   "cell_type": "code",
   "execution_count": 146,
   "id": "22ecc9f9",
   "metadata": {},
   "outputs": [
    {
     "data": {
      "text/plain": [
       "'this '"
      ]
     },
     "execution_count": 146,
     "metadata": {},
     "output_type": "execute_result"
    }
   ],
   "source": [
    "s[:5]"
   ]
  },
  {
   "cell_type": "code",
   "execution_count": 147,
   "id": "217eca26",
   "metadata": {},
   "outputs": [
    {
     "data": {
      "text/plain": [
       "'gnirts si siht'"
      ]
     },
     "execution_count": 147,
     "metadata": {},
     "output_type": "execute_result"
    }
   ],
   "source": [
    "# Reverse string\n",
    "s[::-1]"
   ]
  },
  {
   "cell_type": "code",
   "execution_count": 148,
   "id": "81f5d2fe",
   "metadata": {},
   "outputs": [
    {
     "data": {
      "text/plain": [
       "'h'"
      ]
     },
     "execution_count": 148,
     "metadata": {},
     "output_type": "execute_result"
    }
   ],
   "source": [
    "s[1]"
   ]
  },
  {
   "cell_type": "code",
   "execution_count": 149,
   "id": "96554b9b",
   "metadata": {},
   "outputs": [
    {
     "data": {
      "text/plain": [
       "'g'"
      ]
     },
     "execution_count": 149,
     "metadata": {},
     "output_type": "execute_result"
    }
   ],
   "source": [
    "s[-1]"
   ]
  },
  {
   "cell_type": "code",
   "execution_count": 150,
   "id": "b27f2761",
   "metadata": {},
   "outputs": [
    {
     "ename": "TypeError",
     "evalue": "'str' object does not support item assignment",
     "output_type": "error",
     "traceback": [
      "\u001b[0;31m---------------------------------------------------------------------------\u001b[0m",
      "\u001b[0;31mTypeError\u001b[0m                                 Traceback (most recent call last)",
      "Input \u001b[0;32mIn [150]\u001b[0m, in \u001b[0;36m<cell line: 2>\u001b[0;34m()\u001b[0m\n\u001b[1;32m      1\u001b[0m \u001b[38;5;66;03m# string is imutable\u001b[39;00m\n\u001b[0;32m----> 2\u001b[0m s[\u001b[38;5;241m1\u001b[39m]\u001b[38;5;241m=\u001b[39m\u001b[38;5;124m\"\u001b[39m\u001b[38;5;124mv\u001b[39m\u001b[38;5;124m\"\u001b[39m\n",
      "\u001b[0;31mTypeError\u001b[0m: 'str' object does not support item assignment"
     ]
    }
   ],
   "source": [
    "# string is imutable\n",
    "s[1]=\"v\""
   ]
  },
  {
   "cell_type": "markdown",
   "id": "fcee2096",
   "metadata": {},
   "source": [
    "### 2. Explain the key features of lists in Python."
   ]
  },
  {
   "cell_type": "code",
   "execution_count": null,
   "id": "f4c0c49e",
   "metadata": {},
   "outputs": [],
   "source": [
    "# defining empty list\n",
    "list1 = list()"
   ]
  },
  {
   "cell_type": "code",
   "execution_count": null,
   "id": "1fc35a8f",
   "metadata": {},
   "outputs": [],
   "source": [
    "list1"
   ]
  },
  {
   "cell_type": "code",
   "execution_count": null,
   "id": "08cc3e87",
   "metadata": {},
   "outputs": [],
   "source": [
    "list1.append(1)"
   ]
  },
  {
   "cell_type": "code",
   "execution_count": null,
   "id": "36313e76",
   "metadata": {},
   "outputs": [],
   "source": [
    "list1"
   ]
  },
  {
   "cell_type": "code",
   "execution_count": null,
   "id": "92201155",
   "metadata": {},
   "outputs": [],
   "source": [
    "list1.append(i for i in range(3))"
   ]
  },
  {
   "cell_type": "code",
   "execution_count": null,
   "id": "4d632170",
   "metadata": {},
   "outputs": [],
   "source": [
    "list1"
   ]
  },
  {
   "cell_type": "code",
   "execution_count": null,
   "id": "0a7b7e15",
   "metadata": {},
   "outputs": [],
   "source": [
    "def generator(n):\n",
    "    \n",
    "    value = 0\n",
    "        \n",
    "    while value<n:\n",
    "        yield value\n",
    "        \n",
    "        value+=1\n",
    "        \n",
    "for i in generator(5):\n",
    "    print(i)\n",
    "\n",
    "# Ignore this "
   ]
  },
  {
   "cell_type": "code",
   "execution_count": null,
   "id": "59db5cbe",
   "metadata": {},
   "outputs": [],
   "source": [
    "l = [i for i in range(1,5,2)]"
   ]
  },
  {
   "cell_type": "code",
   "execution_count": null,
   "id": "baff3519",
   "metadata": {},
   "outputs": [],
   "source": [
    "l"
   ]
  },
  {
   "cell_type": "code",
   "execution_count": null,
   "id": "eeb66a3d",
   "metadata": {},
   "outputs": [],
   "source": [
    "l.remove(3)"
   ]
  },
  {
   "cell_type": "code",
   "execution_count": null,
   "id": "366b09c3",
   "metadata": {},
   "outputs": [],
   "source": [
    "l"
   ]
  },
  {
   "cell_type": "code",
   "execution_count": null,
   "id": "0f415d9e",
   "metadata": {},
   "outputs": [],
   "source": [
    "del l"
   ]
  },
  {
   "cell_type": "code",
   "execution_count": null,
   "id": "ae56f5fe",
   "metadata": {},
   "outputs": [],
   "source": [
    "l"
   ]
  },
  {
   "cell_type": "code",
   "execution_count": null,
   "id": "257ea67c",
   "metadata": {},
   "outputs": [],
   "source": [
    "l = [1,2,3,4,5,6]"
   ]
  },
  {
   "cell_type": "code",
   "execution_count": null,
   "id": "b3743891",
   "metadata": {},
   "outputs": [],
   "source": [
    "l[:]"
   ]
  },
  {
   "cell_type": "code",
   "execution_count": null,
   "id": "622993cf",
   "metadata": {},
   "outputs": [],
   "source": [
    "l[::-1]"
   ]
  },
  {
   "cell_type": "markdown",
   "id": "a6b780ca",
   "metadata": {},
   "source": [
    "### 3. Describe how to access, modify, and delete elements in a list with examples."
   ]
  },
  {
   "cell_type": "markdown",
   "id": "b4b06680",
   "metadata": {},
   "source": [
    "##### I think i already done this but lets do it again"
   ]
  },
  {
   "cell_type": "code",
   "execution_count": null,
   "id": "2d340f6c",
   "metadata": {},
   "outputs": [],
   "source": [
    "a = [i for i in range(10)]"
   ]
  },
  {
   "cell_type": "code",
   "execution_count": null,
   "id": "52ce9680",
   "metadata": {},
   "outputs": [],
   "source": [
    "a"
   ]
  },
  {
   "cell_type": "code",
   "execution_count": null,
   "id": "389b8777",
   "metadata": {},
   "outputs": [],
   "source": [
    "a.append(10)"
   ]
  },
  {
   "cell_type": "code",
   "execution_count": null,
   "id": "0dca3fca",
   "metadata": {},
   "outputs": [],
   "source": [
    "a"
   ]
  },
  {
   "cell_type": "code",
   "execution_count": null,
   "id": "f966f19e",
   "metadata": {},
   "outputs": [],
   "source": [
    "a.pop()\n",
    "a\n"
   ]
  },
  {
   "cell_type": "code",
   "execution_count": null,
   "id": "9c6ea55c",
   "metadata": {},
   "outputs": [],
   "source": [
    "a.pop(6)"
   ]
  },
  {
   "cell_type": "code",
   "execution_count": null,
   "id": "14b4455a",
   "metadata": {},
   "outputs": [],
   "source": [
    "a"
   ]
  },
  {
   "cell_type": "code",
   "execution_count": null,
   "id": "cbfe7f93",
   "metadata": {},
   "outputs": [],
   "source": [
    "a.insert(1,\"aloo paratha\")\n"
   ]
  },
  {
   "cell_type": "code",
   "execution_count": null,
   "id": "ba88bc32",
   "metadata": {},
   "outputs": [],
   "source": [
    "a"
   ]
  },
  {
   "cell_type": "code",
   "execution_count": null,
   "id": "20fb6f80",
   "metadata": {},
   "outputs": [],
   "source": [
    "a.remove(\"aloo paratha\")"
   ]
  },
  {
   "cell_type": "code",
   "execution_count": null,
   "id": "aff5fd4c",
   "metadata": {},
   "outputs": [],
   "source": [
    "del a"
   ]
  },
  {
   "cell_type": "code",
   "execution_count": null,
   "id": "2d9e9db8",
   "metadata": {},
   "outputs": [],
   "source": [
    "a"
   ]
  },
  {
   "cell_type": "markdown",
   "id": "21e67944",
   "metadata": {},
   "source": [
    "### 4. Compare and contrast tuples and lists with examples."
   ]
  },
  {
   "cell_type": "code",
   "execution_count": null,
   "id": "849ff465",
   "metadata": {},
   "outputs": [],
   "source": [
    "a , b = list(),tuple()"
   ]
  },
  {
   "cell_type": "code",
   "execution_count": null,
   "id": "b40032fd",
   "metadata": {},
   "outputs": [],
   "source": [
    "a = [1,2,3,4,5]"
   ]
  },
  {
   "cell_type": "markdown",
   "id": "8b059290",
   "metadata": {},
   "source": [
    "#### tuple are immutable where lists are mutable"
   ]
  },
  {
   "cell_type": "code",
   "execution_count": null,
   "id": "b70bab73",
   "metadata": {},
   "outputs": [],
   "source": []
  },
  {
   "cell_type": "code",
   "execution_count": null,
   "id": "60c4fe1c",
   "metadata": {},
   "outputs": [],
   "source": [
    "b = (4,3,5,6,7,8,9)"
   ]
  },
  {
   "cell_type": "code",
   "execution_count": 104,
   "id": "83674010",
   "metadata": {},
   "outputs": [
    {
     "data": {
      "text/plain": [
       "[1, 2, 3, 4, 5, 6]"
      ]
     },
     "execution_count": 104,
     "metadata": {},
     "output_type": "execute_result"
    }
   ],
   "source": [
    "a.append(6)\n",
    "a"
   ]
  },
  {
   "cell_type": "code",
   "execution_count": 105,
   "id": "5632892a",
   "metadata": {},
   "outputs": [
    {
     "ename": "AttributeError",
     "evalue": "'tuple' object has no attribute 'append'",
     "output_type": "error",
     "traceback": [
      "\u001b[0;31m---------------------------------------------------------------------------\u001b[0m",
      "\u001b[0;31mAttributeError\u001b[0m                            Traceback (most recent call last)",
      "Input \u001b[0;32mIn [105]\u001b[0m, in \u001b[0;36m<cell line: 1>\u001b[0;34m()\u001b[0m\n\u001b[0;32m----> 1\u001b[0m \u001b[43mb\u001b[49m\u001b[38;5;241;43m.\u001b[39;49m\u001b[43mappend\u001b[49m(\u001b[38;5;241m1\u001b[39m)\n\u001b[1;32m      2\u001b[0m b\n",
      "\u001b[0;31mAttributeError\u001b[0m: 'tuple' object has no attribute 'append'"
     ]
    }
   ],
   "source": [
    "b.append(1)\n",
    "b"
   ]
  },
  {
   "cell_type": "markdown",
   "id": "2a275e49",
   "metadata": {},
   "source": [
    "### 5. Describe the key features of sets and provide examples of their use."
   ]
  },
  {
   "cell_type": "code",
   "execution_count": 151,
   "id": "83cf0dd8",
   "metadata": {},
   "outputs": [],
   "source": [
    "s = set()"
   ]
  },
  {
   "cell_type": "markdown",
   "id": "7e826c40",
   "metadata": {},
   "source": [
    "#### set is mutable\n",
    "#### set elements dont have indexing \n",
    "#### set doesnt store duplicate value\n"
   ]
  },
  {
   "cell_type": "code",
   "execution_count": 153,
   "id": "5f28ac14",
   "metadata": {},
   "outputs": [],
   "source": [
    "s = {1,2,3,4,5,6}"
   ]
  },
  {
   "cell_type": "code",
   "execution_count": null,
   "id": "31bca835",
   "metadata": {},
   "outputs": [],
   "source": []
  }
 ],
 "metadata": {
  "kernelspec": {
   "display_name": "Python 3 (ipykernel)",
   "language": "python",
   "name": "python3"
  },
  "language_info": {
   "codemirror_mode": {
    "name": "ipython",
    "version": 3
   },
   "file_extension": ".py",
   "mimetype": "text/x-python",
   "name": "python",
   "nbconvert_exporter": "python",
   "pygments_lexer": "ipython3",
   "version": "3.9.13"
  }
 },
 "nbformat": 4,
 "nbformat_minor": 5
}
