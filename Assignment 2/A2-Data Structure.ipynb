{
 "cells": [
  {
   "cell_type": "markdown",
   "id": "42012f2e",
   "metadata": {},
   "source": [
    "# Assingment : Data Structure"
   ]
  },
  {
   "cell_type": "markdown",
   "id": "d7ab6323",
   "metadata": {},
   "source": [
    "### 1. Discuss String slicing and provide examples "
   ]
  },
  {
   "cell_type": "code",
   "execution_count": 142,
   "id": "d6eec86b",
   "metadata": {},
   "outputs": [],
   "source": [
    "s = \"this is string\""
   ]
  },
  {
   "cell_type": "code",
   "execution_count": 143,
   "id": "ab0ca5ae",
   "metadata": {},
   "outputs": [
    {
     "data": {
      "text/plain": [
       "'this is string'"
      ]
     },
     "execution_count": 143,
     "metadata": {},
     "output_type": "execute_result"
    }
   ],
   "source": [
    "s"
   ]
  },
  {
   "cell_type": "code",
   "execution_count": 144,
   "id": "ff79fb15",
   "metadata": {},
   "outputs": [
    {
     "data": {
      "text/plain": [
       "'this is string'"
      ]
     },
     "execution_count": 144,
     "metadata": {},
     "output_type": "execute_result"
    }
   ],
   "source": [
    "s[:]"
   ]
  },
  {
   "cell_type": "code",
   "execution_count": 145,
   "id": "17653b7e",
   "metadata": {},
   "outputs": [
    {
     "data": {
      "text/plain": [
       "'t'"
      ]
     },
     "execution_count": 145,
     "metadata": {},
     "output_type": "execute_result"
    }
   ],
   "source": [
    "s[:1]"
   ]
  },
  {
   "cell_type": "code",
   "execution_count": 146,
   "id": "45959d2f",
   "metadata": {},
   "outputs": [
    {
     "data": {
      "text/plain": [
       "'this '"
      ]
     },
     "execution_count": 146,
     "metadata": {},
     "output_type": "execute_result"
    }
   ],
   "source": [
    "s[:5]"
   ]
  },
  {
   "cell_type": "code",
   "execution_count": 147,
   "id": "1a7f0b43",
   "metadata": {},
   "outputs": [
    {
     "data": {
      "text/plain": [
       "'gnirts si siht'"
      ]
     },
     "execution_count": 147,
     "metadata": {},
     "output_type": "execute_result"
    }
   ],
   "source": [
    "# Reverse string\n",
    "s[::-1]"
   ]
  },
  {
   "cell_type": "code",
   "execution_count": 148,
   "id": "df8eb4ff",
   "metadata": {},
   "outputs": [
    {
     "data": {
      "text/plain": [
       "'h'"
      ]
     },
     "execution_count": 148,
     "metadata": {},
     "output_type": "execute_result"
    }
   ],
   "source": [
    "s[1]"
   ]
  },
  {
   "cell_type": "code",
   "execution_count": 149,
   "id": "e085c480",
   "metadata": {},
   "outputs": [
    {
     "data": {
      "text/plain": [
       "'g'"
      ]
     },
     "execution_count": 149,
     "metadata": {},
     "output_type": "execute_result"
    }
   ],
   "source": [
    "s[-1]"
   ]
  },
  {
   "cell_type": "code",
   "execution_count": 150,
   "id": "e670e540",
   "metadata": {},
   "outputs": [
    {
     "ename": "TypeError",
     "evalue": "'str' object does not support item assignment",
     "output_type": "error",
     "traceback": [
      "\u001b[0;31m---------------------------------------------------------------------------\u001b[0m",
      "\u001b[0;31mTypeError\u001b[0m                                 Traceback (most recent call last)",
      "Input \u001b[0;32mIn [150]\u001b[0m, in \u001b[0;36m<cell line: 2>\u001b[0;34m()\u001b[0m\n\u001b[1;32m      1\u001b[0m \u001b[38;5;66;03m# string is imutable\u001b[39;00m\n\u001b[0;32m----> 2\u001b[0m s[\u001b[38;5;241m1\u001b[39m]\u001b[38;5;241m=\u001b[39m\u001b[38;5;124m\"\u001b[39m\u001b[38;5;124mv\u001b[39m\u001b[38;5;124m\"\u001b[39m\n",
      "\u001b[0;31mTypeError\u001b[0m: 'str' object does not support item assignment"
     ]
    }
   ],
   "source": [
    "# string is imutable\n",
    "s[1]=\"v\""
   ]
  },
  {
   "cell_type": "markdown",
   "id": "fb285fcb",
   "metadata": {},
   "source": [
    "### 2. Explain the key features of lists in Python."
   ]
  },
  {
   "cell_type": "code",
   "execution_count": null,
   "id": "e0f987db",
   "metadata": {},
   "outputs": [],
   "source": [
    "# defining empty list\n",
    "list1 = list()"
   ]
  },
  {
   "cell_type": "code",
   "execution_count": null,
   "id": "96fb465e",
   "metadata": {},
   "outputs": [],
   "source": [
    "list1"
   ]
  },
  {
   "cell_type": "code",
   "execution_count": null,
   "id": "3e3aa860",
   "metadata": {},
   "outputs": [],
   "source": [
    "list1.append(1)"
   ]
  },
  {
   "cell_type": "code",
   "execution_count": null,
   "id": "f8245221",
   "metadata": {},
   "outputs": [],
   "source": [
    "list1"
   ]
  },
  {
   "cell_type": "code",
   "execution_count": null,
   "id": "dde41052",
   "metadata": {},
   "outputs": [],
   "source": [
    "list1.append(i for i in range(3))"
   ]
  },
  {
   "cell_type": "code",
   "execution_count": null,
   "id": "0e43436d",
   "metadata": {},
   "outputs": [],
   "source": [
    "list1"
   ]
  },
  {
   "cell_type": "code",
   "execution_count": null,
   "id": "5c010b40",
   "metadata": {},
   "outputs": [],
   "source": [
    "def generator(n):\n",
    "    \n",
    "    value = 0\n",
    "        \n",
    "    while value<n:\n",
    "        yield value\n",
    "        \n",
    "        value+=1\n",
    "        \n",
    "for i in generator(5):\n",
    "    print(i)\n",
    "\n",
    "# Ignore this "
   ]
  },
  {
   "cell_type": "code",
   "execution_count": null,
   "id": "6683e5fa",
   "metadata": {},
   "outputs": [],
   "source": [
    "l = [i for i in range(1,5,2)]"
   ]
  },
  {
   "cell_type": "code",
   "execution_count": null,
   "id": "bdb2ab37",
   "metadata": {},
   "outputs": [],
   "source": [
    "l"
   ]
  },
  {
   "cell_type": "code",
   "execution_count": null,
   "id": "16e86b11",
   "metadata": {},
   "outputs": [],
   "source": [
    "l.remove(3)"
   ]
  },
  {
   "cell_type": "code",
   "execution_count": null,
   "id": "6c5a6c08",
   "metadata": {},
   "outputs": [],
   "source": [
    "l"
   ]
  },
  {
   "cell_type": "code",
   "execution_count": null,
   "id": "649f540b",
   "metadata": {},
   "outputs": [],
   "source": [
    "del l"
   ]
  },
  {
   "cell_type": "code",
   "execution_count": null,
   "id": "28adabfb",
   "metadata": {},
   "outputs": [],
   "source": [
    "l"
   ]
  },
  {
   "cell_type": "code",
   "execution_count": null,
   "id": "3c6d4973",
   "metadata": {},
   "outputs": [],
   "source": [
    "l = [1,2,3,4,5,6]"
   ]
  },
  {
   "cell_type": "code",
   "execution_count": null,
   "id": "f3d46a9e",
   "metadata": {},
   "outputs": [],
   "source": [
    "l[:]"
   ]
  },
  {
   "cell_type": "code",
   "execution_count": null,
   "id": "59df7536",
   "metadata": {},
   "outputs": [],
   "source": [
    "l[::-1]"
   ]
  },
  {
   "cell_type": "markdown",
   "id": "cf8a2e25",
   "metadata": {},
   "source": [
    "### 3. Describe how to access, modify, and delete elements in a list with examples."
   ]
  },
  {
   "cell_type": "markdown",
   "id": "f377ba34",
   "metadata": {},
   "source": [
    "##### I think i already done this but lets do it again"
   ]
  },
  {
   "cell_type": "code",
   "execution_count": null,
   "id": "56f8aec4",
   "metadata": {},
   "outputs": [],
   "source": [
    "a = [i for i in range(10)]"
   ]
  },
  {
   "cell_type": "code",
   "execution_count": null,
   "id": "866c1431",
   "metadata": {},
   "outputs": [],
   "source": [
    "a"
   ]
  },
  {
   "cell_type": "code",
   "execution_count": null,
   "id": "d478c708",
   "metadata": {},
   "outputs": [],
   "source": [
    "a.append(10)"
   ]
  },
  {
   "cell_type": "code",
   "execution_count": null,
   "id": "66fe44ed",
   "metadata": {},
   "outputs": [],
   "source": [
    "a"
   ]
  },
  {
   "cell_type": "code",
   "execution_count": null,
   "id": "29bb8d53",
   "metadata": {},
   "outputs": [],
   "source": [
    "a.pop()\n",
    "a\n"
   ]
  },
  {
   "cell_type": "code",
   "execution_count": null,
   "id": "bcffc24f",
   "metadata": {},
   "outputs": [],
   "source": [
    "a.pop(6)"
   ]
  },
  {
   "cell_type": "code",
   "execution_count": null,
   "id": "497e0c97",
   "metadata": {},
   "outputs": [],
   "source": [
    "a"
   ]
  },
  {
   "cell_type": "code",
   "execution_count": null,
   "id": "09140924",
   "metadata": {},
   "outputs": [],
   "source": [
    "a.insert(1,\"aloo paratha\")\n"
   ]
  },
  {
   "cell_type": "code",
   "execution_count": null,
   "id": "769f784d",
   "metadata": {},
   "outputs": [],
   "source": [
    "a"
   ]
  },
  {
   "cell_type": "code",
   "execution_count": null,
   "id": "384822d1",
   "metadata": {},
   "outputs": [],
   "source": [
    "a.remove(\"aloo paratha\")"
   ]
  },
  {
   "cell_type": "code",
   "execution_count": null,
   "id": "bce25504",
   "metadata": {},
   "outputs": [],
   "source": [
    "del a"
   ]
  },
  {
   "cell_type": "code",
   "execution_count": null,
   "id": "c60ddee6",
   "metadata": {},
   "outputs": [],
   "source": [
    "a"
   ]
  },
  {
   "cell_type": "markdown",
   "id": "f824f5ce",
   "metadata": {},
   "source": [
    "### 4. Compare and contrast tuples and lists with examples."
   ]
  },
  {
   "cell_type": "code",
   "execution_count": null,
   "id": "be061650",
   "metadata": {},
   "outputs": [],
   "source": [
    "a , b = list(),tuple()"
   ]
  },
  {
   "cell_type": "code",
   "execution_count": null,
   "id": "121306f1",
   "metadata": {},
   "outputs": [],
   "source": [
    "a = [1,2,3,4,5]"
   ]
  },
  {
   "cell_type": "markdown",
   "id": "16dace1a",
   "metadata": {},
   "source": [
    "#### tuple are immutable where lists are mutable"
   ]
  },
  {
   "cell_type": "code",
   "execution_count": null,
   "id": "b1a15c1c",
   "metadata": {},
   "outputs": [],
   "source": []
  },
  {
   "cell_type": "code",
   "execution_count": null,
   "id": "9583686c",
   "metadata": {},
   "outputs": [],
   "source": [
    "b = (4,3,5,6,7,8,9)"
   ]
  },
  {
   "cell_type": "code",
   "execution_count": 104,
   "id": "c5228666",
   "metadata": {},
   "outputs": [
    {
     "data": {
      "text/plain": [
       "[1, 2, 3, 4, 5, 6]"
      ]
     },
     "execution_count": 104,
     "metadata": {},
     "output_type": "execute_result"
    }
   ],
   "source": [
    "a.append(6)\n",
    "a"
   ]
  },
  {
   "cell_type": "code",
   "execution_count": 105,
   "id": "da4b2c72",
   "metadata": {},
   "outputs": [
    {
     "ename": "AttributeError",
     "evalue": "'tuple' object has no attribute 'append'",
     "output_type": "error",
     "traceback": [
      "\u001b[0;31m---------------------------------------------------------------------------\u001b[0m",
      "\u001b[0;31mAttributeError\u001b[0m                            Traceback (most recent call last)",
      "Input \u001b[0;32mIn [105]\u001b[0m, in \u001b[0;36m<cell line: 1>\u001b[0;34m()\u001b[0m\n\u001b[0;32m----> 1\u001b[0m \u001b[43mb\u001b[49m\u001b[38;5;241;43m.\u001b[39;49m\u001b[43mappend\u001b[49m(\u001b[38;5;241m1\u001b[39m)\n\u001b[1;32m      2\u001b[0m b\n",
      "\u001b[0;31mAttributeError\u001b[0m: 'tuple' object has no attribute 'append'"
     ]
    }
   ],
   "source": [
    "b.append(1)\n",
    "b"
   ]
  },
  {
   "cell_type": "markdown",
   "id": "b49119ec",
   "metadata": {},
   "source": [
    "### 5. Describe the key features of sets and provide examples of their use."
   ]
  },
  {
   "cell_type": "code",
   "execution_count": 151,
   "id": "78c1cd7f",
   "metadata": {},
   "outputs": [],
   "source": [
    "s = set()"
   ]
  },
  {
   "cell_type": "markdown",
   "id": "25f55869",
   "metadata": {},
   "source": [
    "#### set is mutable\n",
    "#### set elements dont have indexing \n",
    "#### set doesnt store duplicate value\n"
   ]
  },
  {
   "cell_type": "code",
   "execution_count": 153,
   "id": "344ae21e",
   "metadata": {},
   "outputs": [],
   "source": [
    "s = {1,2,3,4,5,6}"
   ]
  },
  {
   "cell_type": "code",
   "execution_count": 154,
   "id": "6bea6923",
   "metadata": {},
   "outputs": [],
   "source": [
    "s.add(3)"
   ]
  },
  {
   "cell_type": "code",
   "execution_count": 155,
   "id": "da8948f8",
   "metadata": {},
   "outputs": [
    {
     "data": {
      "text/plain": [
       "{1, 2, 3, 4, 5, 6}"
      ]
     },
     "execution_count": 155,
     "metadata": {},
     "output_type": "execute_result"
    }
   ],
   "source": [
    "s"
   ]
  },
  {
   "cell_type": "code",
   "execution_count": 156,
   "id": "c72cfd7a",
   "metadata": {},
   "outputs": [],
   "source": [
    "s.add(10)"
   ]
  },
  {
   "cell_type": "code",
   "execution_count": 157,
   "id": "bf3ebc05",
   "metadata": {},
   "outputs": [
    {
     "data": {
      "text/plain": [
       "{1, 2, 3, 4, 5, 6, 10}"
      ]
     },
     "execution_count": 157,
     "metadata": {},
     "output_type": "execute_result"
    }
   ],
   "source": [
    "s"
   ]
  },
  {
   "cell_type": "code",
   "execution_count": 158,
   "id": "f7c22efc",
   "metadata": {},
   "outputs": [
    {
     "ename": "TypeError",
     "evalue": "'set' object is not subscriptable",
     "output_type": "error",
     "traceback": [
      "\u001b[0;31m---------------------------------------------------------------------------\u001b[0m",
      "\u001b[0;31mTypeError\u001b[0m                                 Traceback (most recent call last)",
      "Input \u001b[0;32mIn [158]\u001b[0m, in \u001b[0;36m<cell line: 1>\u001b[0;34m()\u001b[0m\n\u001b[0;32m----> 1\u001b[0m \u001b[43ms\u001b[49m\u001b[43m[\u001b[49m\u001b[38;5;241;43m1\u001b[39;49m\u001b[43m]\u001b[49m\n",
      "\u001b[0;31mTypeError\u001b[0m: 'set' object is not subscriptable"
     ]
    }
   ],
   "source": [
    "s[1]"
   ]
  },
  {
   "cell_type": "code",
   "execution_count": 159,
   "id": "0fd42b24",
   "metadata": {},
   "outputs": [],
   "source": [
    "s1 ={'a','b','c'}\n",
    "s2 = {'d','e','f'}"
   ]
  },
  {
   "cell_type": "code",
   "execution_count": 160,
   "id": "f544dfa8",
   "metadata": {},
   "outputs": [
    {
     "data": {
      "text/plain": [
       "{'a', 'b', 'c', 'd', 'e', 'f'}"
      ]
     },
     "execution_count": 160,
     "metadata": {},
     "output_type": "execute_result"
    }
   ],
   "source": [
    "s1.union(s2)"
   ]
  },
  {
   "cell_type": "code",
   "execution_count": 161,
   "id": "610ecb89",
   "metadata": {},
   "outputs": [
    {
     "data": {
      "text/plain": [
       "{'a', 'b', 'c', 'd', 'e', 'f'}"
      ]
     },
     "execution_count": 161,
     "metadata": {},
     "output_type": "execute_result"
    }
   ],
   "source": [
    "s1|s2"
   ]
  },
  {
   "cell_type": "code",
   "execution_count": 163,
   "id": "597dec1b",
   "metadata": {},
   "outputs": [
    {
     "data": {
      "text/plain": [
       "set()"
      ]
     },
     "execution_count": 163,
     "metadata": {},
     "output_type": "execute_result"
    }
   ],
   "source": [
    "s1.intersection(s2)"
   ]
  },
  {
   "cell_type": "code",
   "execution_count": 164,
   "id": "39c32d6b",
   "metadata": {},
   "outputs": [
    {
     "data": {
      "text/plain": [
       "{'a', 'b', 'c'}"
      ]
     },
     "execution_count": 164,
     "metadata": {},
     "output_type": "execute_result"
    }
   ],
   "source": [
    "s1-s2"
   ]
  },
  {
   "cell_type": "code",
   "execution_count": 165,
   "id": "c14c70f5",
   "metadata": {},
   "outputs": [
    {
     "data": {
      "text/plain": [
       "{'d', 'e', 'f'}"
      ]
     },
     "execution_count": 165,
     "metadata": {},
     "output_type": "execute_result"
    }
   ],
   "source": [
    "s2-s1"
   ]
  },
  {
   "cell_type": "code",
   "execution_count": 166,
   "id": "c435cff3",
   "metadata": {},
   "outputs": [],
   "source": [
    "# this is how you iterate set"
   ]
  },
  {
   "cell_type": "code",
   "execution_count": 167,
   "id": "6ca38f2f",
   "metadata": {},
   "outputs": [
    {
     "name": "stdout",
     "output_type": "stream",
     "text": [
      "1\n",
      "2\n",
      "3\n",
      "4\n",
      "5\n",
      "6\n",
      "10\n"
     ]
    }
   ],
   "source": [
    "for i in s:\n",
    "    print(i)"
   ]
  },
  {
   "cell_type": "markdown",
   "id": "1cc08a7d",
   "metadata": {},
   "source": [
    "### 6. Discuss the use cases of tuples and sets in Python programming."
   ]
  },
  {
   "cell_type": "markdown",
   "id": "1145fa45",
   "metadata": {},
   "source": [
    "#### Tuple : Tuple have super power of immutablity\n",
    "    "
   ]
  },
  {
   "cell_type": "markdown",
   "id": "e51b661d",
   "metadata": {},
   "source": [
    "#### tuples got all the functions and ability which lists have except mutablility"
   ]
  },
  {
   "cell_type": "markdown",
   "id": "4b5a1935",
   "metadata": {},
   "source": [
    "#### tuples can used in all the places where data should remain unchanged once it is defined such as Bank Statements , Call records , FIR register etc"
   ]
  },
  {
   "cell_type": "markdown",
   "id": "7182545b",
   "metadata": {},
   "source": [
    "#### ----------------------------------------------------------------------------------------------------------------------------------------------------"
   ]
  },
  {
   "cell_type": "markdown",
   "id": "eb624fb7",
   "metadata": {},
   "source": [
    "#### Set : Set have super power of No-Duplicate"
   ]
  },
  {
   "cell_type": "markdown",
   "id": "aa0aff15",
   "metadata": {},
   "source": [
    "#### sets performs search element and add element opertion in O(1) or constant time complexity which is very useful for better performance "
   ]
  },
  {
   "cell_type": "markdown",
   "id": "68442a9f",
   "metadata": {},
   "source": [
    "#### Set uses Map under the hood for maintaining this time complexity "
   ]
  },
  {
   "cell_type": "markdown",
   "id": "85049edb",
   "metadata": {},
   "source": [
    "#### Example : if want to store email_id for all participant we can use set bcoz email_id should not be duplicate "
   ]
  },
  {
   "cell_type": "markdown",
   "id": "21a15665",
   "metadata": {},
   "source": [
    "#### ----------------------------------------------------------------------------------------------------------------------------------------------------"
   ]
  },
  {
   "cell_type": "markdown",
   "id": "9fc3964a",
   "metadata": {},
   "source": [
    "### 7. Describe how to add, modify, and delete items in a dictionary with examples."
   ]
  },
  {
   "cell_type": "code",
   "execution_count": 185,
   "id": "aaa6552c",
   "metadata": {},
   "outputs": [],
   "source": [
    "d = dict()"
   ]
  },
  {
   "cell_type": "code",
   "execution_count": 186,
   "id": "d78260c7",
   "metadata": {},
   "outputs": [
    {
     "data": {
      "text/plain": [
       "['sunny', 'hunny', 'bunny', 'funny', 'zunny']"
      ]
     },
     "execution_count": 186,
     "metadata": {},
     "output_type": "execute_result"
    }
   ],
   "source": [
    "a = ['sunny','hunny','bunny','funny','zunny']\n",
    "for i in range(len(a)):\n",
    "    d[a[i]] = i\n",
    "    \n",
    "a"
   ]
  },
  {
   "cell_type": "code",
   "execution_count": 187,
   "id": "cf1d42b1",
   "metadata": {},
   "outputs": [
    {
     "data": {
      "text/plain": [
       "{'sunny': 0, 'hunny': 1, 'bunny': 2, 'funny': 3, 'zunny': 4}"
      ]
     },
     "execution_count": 187,
     "metadata": {},
     "output_type": "execute_result"
    }
   ],
   "source": [
    "d"
   ]
  },
  {
   "cell_type": "code",
   "execution_count": 188,
   "id": "59aa57ec",
   "metadata": {},
   "outputs": [
    {
     "data": {
      "text/plain": [
       "dict_keys(['sunny', 'hunny', 'bunny', 'funny', 'zunny'])"
      ]
     },
     "execution_count": 188,
     "metadata": {},
     "output_type": "execute_result"
    }
   ],
   "source": [
    "d.keys()"
   ]
  },
  {
   "cell_type": "code",
   "execution_count": 189,
   "id": "7682bc39",
   "metadata": {},
   "outputs": [
    {
     "data": {
      "text/plain": [
       "dict_values([0, 1, 2, 3, 4])"
      ]
     },
     "execution_count": 189,
     "metadata": {},
     "output_type": "execute_result"
    }
   ],
   "source": [
    "d.values()"
   ]
  },
  {
   "cell_type": "code",
   "execution_count": 190,
   "id": "9dcdd745",
   "metadata": {},
   "outputs": [],
   "source": [
    "# modify\n",
    "d['funny']=\"i am not funny\""
   ]
  },
  {
   "cell_type": "code",
   "execution_count": 191,
   "id": "767ab6e1",
   "metadata": {},
   "outputs": [
    {
     "data": {
      "text/plain": [
       "{'sunny': 0, 'hunny': 1, 'bunny': 2, 'funny': 'i am not funny', 'zunny': 4}"
      ]
     },
     "execution_count": 191,
     "metadata": {},
     "output_type": "execute_result"
    }
   ],
   "source": [
    "d"
   ]
  },
  {
   "cell_type": "code",
   "execution_count": 192,
   "id": "be5e89a6",
   "metadata": {},
   "outputs": [
    {
     "data": {
      "text/plain": [
       "'i am not funny'"
      ]
     },
     "execution_count": 192,
     "metadata": {},
     "output_type": "execute_result"
    }
   ],
   "source": [
    "d['funny']"
   ]
  },
  {
   "cell_type": "code",
   "execution_count": 193,
   "id": "d871cb91",
   "metadata": {},
   "outputs": [
    {
     "data": {
      "text/plain": [
       "'i am not funny'"
      ]
     },
     "execution_count": 193,
     "metadata": {},
     "output_type": "execute_result"
    }
   ],
   "source": [
    "# delete element\n",
    "d.pop('funny')"
   ]
  },
  {
   "cell_type": "code",
   "execution_count": 194,
   "id": "8840c9df",
   "metadata": {},
   "outputs": [
    {
     "data": {
      "text/plain": [
       "{'sunny': 0, 'hunny': 1, 'bunny': 2, 'zunny': 4}"
      ]
     },
     "execution_count": 194,
     "metadata": {},
     "output_type": "execute_result"
    }
   ],
   "source": [
    "d"
   ]
  },
  {
   "cell_type": "code",
   "execution_count": 195,
   "id": "0f69c355",
   "metadata": {},
   "outputs": [],
   "source": [
    "# inserting is so easy\n",
    "d['harry'] = 'porter'"
   ]
  },
  {
   "cell_type": "code",
   "execution_count": 196,
   "id": "acbd4f63",
   "metadata": {},
   "outputs": [
    {
     "data": {
      "text/plain": [
       "{'sunny': 0, 'hunny': 1, 'bunny': 2, 'zunny': 4, 'harry': 'porter'}"
      ]
     },
     "execution_count": 196,
     "metadata": {},
     "output_type": "execute_result"
    }
   ],
   "source": [
    "d"
   ]
  },
  {
   "cell_type": "code",
   "execution_count": 197,
   "id": "a35111c3",
   "metadata": {},
   "outputs": [
    {
     "data": {
      "text/plain": [
       "'porter'"
      ]
     },
     "execution_count": 197,
     "metadata": {},
     "output_type": "execute_result"
    }
   ],
   "source": [
    "d['harry']"
   ]
  },
  {
   "cell_type": "markdown",
   "id": "0e112ef1",
   "metadata": {},
   "source": [
    "### 8. Discuss the importance of dictionary keys being immutable and provide examples."
   ]
  },
  {
   "cell_type": "markdown",
   "id": "75b182df",
   "metadata": {},
   "source": [
    "#### Using mutable key can lead to so many bugs and unexpected behaviour of code ....so keys of python dictionary are immutable"
   ]
  },
  {
   "cell_type": "code",
   "execution_count": 203,
   "id": "3b311319",
   "metadata": {},
   "outputs": [
    {
     "ename": "TypeError",
     "evalue": "unhashable type: 'list'",
     "output_type": "error",
     "traceback": [
      "\u001b[0;31m---------------------------------------------------------------------------\u001b[0m",
      "\u001b[0;31mTypeError\u001b[0m                                 Traceback (most recent call last)",
      "Input \u001b[0;32mIn [203]\u001b[0m, in \u001b[0;36m<cell line: 1>\u001b[0;34m()\u001b[0m\n\u001b[0;32m----> 1\u001b[0m my_dict \u001b[38;5;241m=\u001b[39m {[\u001b[38;5;124m\"\u001b[39m\u001b[38;5;124mname\u001b[39m\u001b[38;5;124m\"\u001b[39m]: \u001b[38;5;124m\"\u001b[39m\u001b[38;5;124mAlice\u001b[39m\u001b[38;5;124m\"\u001b[39m}\n",
      "\u001b[0;31mTypeError\u001b[0m: unhashable type: 'list'"
     ]
    }
   ],
   "source": [
    "my_dict = {[\"name\"]: \"Alice\"} "
   ]
  },
  {
   "cell_type": "markdown",
   "id": "7eaa9ad0",
   "metadata": {},
   "source": [
    "#### list is hashable so it cant be use as key"
   ]
  },
  {
   "cell_type": "markdown",
   "id": "9f445915",
   "metadata": {},
   "source": [
    "#### dictionary keys can be String, Number , Tuple only"
   ]
  },
  {
   "cell_type": "code",
   "execution_count": 205,
   "id": "de19abeb",
   "metadata": {},
   "outputs": [],
   "source": [
    "d[1]=4"
   ]
  },
  {
   "cell_type": "code",
   "execution_count": 206,
   "id": "520ecc06",
   "metadata": {},
   "outputs": [
    {
     "data": {
      "text/plain": [
       "{'key1': 2, 1: 4}"
      ]
     },
     "execution_count": 206,
     "metadata": {},
     "output_type": "execute_result"
    }
   ],
   "source": [
    "d"
   ]
  },
  {
   "cell_type": "code",
   "execution_count": 207,
   "id": "0aea41a6",
   "metadata": {},
   "outputs": [],
   "source": [
    "d[(1,2)]=34"
   ]
  },
  {
   "cell_type": "code",
   "execution_count": 208,
   "id": "19adb861",
   "metadata": {},
   "outputs": [
    {
     "data": {
      "text/plain": [
       "{'key1': 2, 1: 4, (1, 2): 34}"
      ]
     },
     "execution_count": 208,
     "metadata": {},
     "output_type": "execute_result"
    }
   ],
   "source": [
    "d"
   ]
  },
  {
   "cell_type": "code",
   "execution_count": 209,
   "id": "4b1bc69f",
   "metadata": {},
   "outputs": [],
   "source": [
    "d[\"mother\"]=\"Maa\""
   ]
  },
  {
   "cell_type": "code",
   "execution_count": 210,
   "id": "1c5369ad",
   "metadata": {},
   "outputs": [
    {
     "data": {
      "text/plain": [
       "{'key1': 2, 1: 4, (1, 2): 34, 'mother': 'Maa'}"
      ]
     },
     "execution_count": 210,
     "metadata": {},
     "output_type": "execute_result"
    }
   ],
   "source": [
    "d"
   ]
  },
  {
   "cell_type": "code",
   "execution_count": null,
   "id": "d17f5698",
   "metadata": {},
   "outputs": [],
   "source": []
  }
 ],
 "metadata": {
  "kernelspec": {
   "display_name": "Python 3 (ipykernel)",
   "language": "python",
   "name": "python3"
  },
  "language_info": {
   "codemirror_mode": {
    "name": "ipython",
    "version": 3
   },
   "file_extension": ".py",
   "mimetype": "text/x-python",
   "name": "python",
   "nbconvert_exporter": "python",
   "pygments_lexer": "ipython3",
   "version": "3.9.13"
  }
 },
 "nbformat": 4,
 "nbformat_minor": 5
}
